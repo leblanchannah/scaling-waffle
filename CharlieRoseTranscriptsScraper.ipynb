{
 "cells": [
  {
   "cell_type": "code",
   "execution_count": null,
   "metadata": {
    "collapsed": true
   },
   "outputs": [],
   "source": [
    "from bs4 import BeautifulSoup\n",
    "import urllib.request"
   ]
  },
  {
   "cell_type": "code",
   "execution_count": 23,
   "metadata": {},
   "outputs": [],
   "source": [
    "start = 30050\n",
    "end = 30000\n",
    "url_base = \"https://charlierose.com/video/transcripts/\"\n",
    "\n",
    "for i in range(end,start):\n",
    "    full_url = url_base + str(i)\n",
    "    try:\n",
    "        with urllib.request.urlopen(full_url) as url:\n",
    "            s = url.read()\n",
    "            soup = BeautifulSoup(s, 'html.parser')\n",
    "            guest_name = (soup.select_one(\"dd a:nth-of-type(2)\").text)\n",
    "            guest_name = guest_name.strip()[:-1].replace(\" \",\"_\")\n",
    "            out_file_name = str(i) +\"_\"+ guest_name + \".txt\"\n",
    "            out_file_name = \"./transcripts/\" + out_file_name\n",
    "            s = url.read()\n",
    "            full_transcript = \"\"\n",
    "            for link in soup.find_all('dd'):\n",
    "                speaker = link.find('a').get_text().strip()\n",
    "                current_turn = speaker\n",
    "                for line in link.find_all('span'):\n",
    "                    current_turn += line.get_text() + \" \"\n",
    "                full_transcript += (current_turn + \"\\n\\n\")\n",
    "            f = open(out_file_name,'w')\n",
    "            f.write(full_transcript)\n",
    "            f.close()\n",
    "    except Exception as e:\n",
    "        continue"
   ]
  },
  {
   "cell_type": "code",
   "execution_count": null,
   "metadata": {
    "collapsed": true
   },
   "outputs": [],
   "source": []
  }
 ],
 "metadata": {
  "kernelspec": {
   "display_name": "Python 3",
   "language": "python",
   "name": "python3"
  },
  "language_info": {
   "codemirror_mode": {
    "name": "ipython",
    "version": 3
   },
   "file_extension": ".py",
   "mimetype": "text/x-python",
   "name": "python",
   "nbconvert_exporter": "python",
   "pygments_lexer": "ipython3",
   "version": "3.6.1"
  }
 },
 "nbformat": 4,
 "nbformat_minor": 2
}
