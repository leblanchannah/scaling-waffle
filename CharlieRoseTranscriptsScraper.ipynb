{
 "cells": [
  {
   "cell_type": "code",
   "execution_count": 14,
   "metadata": {},
   "outputs": [],
   "source": [
    "from bs4 import BeautifulSoup\n",
    "import urllib.request"
   ]
  },
  {
   "cell_type": "code",
   "execution_count": null,
   "metadata": {},
   "outputs": [],
   "source": [
    "\n",
    "start = 30988\n",
    "end = 30000\n",
    "#988 transcripts\n",
    "# where i corresponds to a name id for interview\n",
    "url_base = \"https://charlierose.com/video/transcripts/\"\n",
    "\n",
    "for i in range(end,start):\n",
    "    full_url = url_base + str(i)\n",
    "    print(full_url)\n",
    "    try:\n",
    "        with urllib.request.urlopen(full_url) as url:\n",
    "            s = url.read()\n",
    "            soup = BeautifulSoup(s, 'html.parser')\n",
    "            guest_name = (soup.select_one(\"dd a:nth-of-type(2)\").text)\n",
    "            guest_name = guest_name.strip()[:-1].replace(\" \",\"_\")\n",
    "            out_file_name = str(i) +\"_\"+ guest_name + \".txt\"\n",
    "            out_file_name = \"./transcripts/\" + out_file_name\n",
    "            s = url.read()\n",
    "            full_transcript = \"\"\n",
    "            for link in soup.find_all('dd'):\n",
    "                current_turn = \"\"\n",
    "                for line in link.find_all('span'):\n",
    "                    current_turn += line.get_text() + \" \"\n",
    "                full_transcript += (current_turn + \"\\n\\n\")\n",
    "            f = open(out_file_name,'w')\n",
    "            f.write(full_transcript)\n",
    "            f.close()\n",
    "    except Exception as e:\n",
    "        continue"
   ]
  },
  {
   "cell_type": "code",
   "execution_count": null,
   "metadata": {
    "collapsed": true
   },
   "outputs": [],
   "source": []
  }
 ],
 "metadata": {
  "kernelspec": {
   "display_name": "Python 3",
   "language": "python",
   "name": "python3"
  }
 },
 "nbformat": 4,
 "nbformat_minor": 2
}
